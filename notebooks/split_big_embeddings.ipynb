{
 "cells": [
  {
   "cell_type": "code",
   "execution_count": 1,
   "metadata": {},
   "outputs": [],
   "source": [
    "from pathlib import Path\n",
    "\n",
    "import pandas as pd\n",
    "\n",
    "p = Path(\"..\", \"data\", \"big_vector\", \"with_embeddings.parquet\")\n",
    "\n",
    "df = pd.read_parquet(p)\n",
    "\n",
    "# we want to split this into other parquets of size 50,000\n",
    "\n",
    "n = 50000\n",
    "dest_dir = p.parent / \"parts\"\n",
    "\n",
    "for i in range(0, len(df), n):\n",
    "    filename = p.with_name(f\"with_embeddings_{i}.parquet\")\n",
    "    # put file in dest_dir\n",
    "    dest_path = dest_dir / filename.name\n",
    "    df.iloc[i : i + n].to_parquet(dest_path)"
   ]
  }
 ],
 "metadata": {
  "language_info": {
   "name": "python"
  }
 },
 "nbformat": 4,
 "nbformat_minor": 2
}
