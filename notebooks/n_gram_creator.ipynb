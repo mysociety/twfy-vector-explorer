{
 "cells": [
  {
   "cell_type": "code",
   "execution_count": 1,
   "metadata": {},
   "outputs": [
    {
     "name": "stderr",
     "output_type": "stream",
     "text": [
      "[nltk_data] Downloading package punkt_tab to /root/nltk_data...\n",
      "[nltk_data]   Package punkt_tab is already up-to-date!\n"
     ]
    }
   ],
   "source": [
    "from collections import Counter\n",
    "from pathlib import Path\n",
    "\n",
    "import nltk\n",
    "import pandas as pd\n",
    "from tqdm import tqdm\n",
    "\n",
    "# Import a model to verify the setup\n",
    "from twfy_vector_explorer import notebook_setup as notebook_setup\n",
    "from vector_explorer.models import ParagraphVector\n",
    "\n",
    "pd.set_option(\"display.max_colwidth\", None)\n",
    "nltk.download(\"punkt_tab\")\n",
    "data_dir = Path(\"..\", \"data\", \"ngram\")"
   ]
  },
  {
   "cell_type": "code",
   "execution_count": 3,
   "metadata": {},
   "outputs": [
    {
     "name": "stderr",
     "output_type": "stream",
     "text": [
      "  0%|          | 0/1912940 [00:13<?, ?it/s]\n",
      "100%|██████████| 1912940/1912940 [32:58<00:00, 966.89it/s]  \n"
     ]
    },
    {
     "data": {
      "text/plain": [
       "3409250"
      ]
     },
     "execution_count": 3,
     "metadata": {},
     "output_type": "execute_result"
    }
   ],
   "source": [
    "ultimate_total = 1912940\n",
    "group_spacing = 50000\n",
    "start = 0\n",
    "\n",
    "bar = tqdm(total=ultimate_total, position=0)\n",
    "while start < ultimate_total:\n",
    "    many_grams = []\n",
    "    end = start + group_spacing\n",
    "    for p in ParagraphVector.objects.all()[start:end]:\n",
    "        bar.update(1)\n",
    "        sentence = p.text\n",
    "        tokens = nltk.word_tokenize(sentence)\n",
    "        tokens = [t.lower() for t in tokens]\n",
    "        for i in range(2, 6):\n",
    "            many_grams.extend(list(nltk.ngrams(tokens, i)))\n",
    "\n",
    "    c = Counter(many_grams)\n",
    "    df = pd.DataFrame(c.items(), columns=[\"ngram\", \"count\"])\n",
    "    df[\"ngram\"] = df[\"ngram\"].apply(lambda x: \" \".join(x))\n",
    "    df = df.sort_values(\"count\", ascending=False)\n",
    "    df.to_parquet(data_dir / f\"{start}_{end}.csv\")\n",
    "    start = end\n",
    "bar.close()\n",
    "\n",
    "len(many_grams)"
   ]
  },
  {
   "cell_type": "code",
   "execution_count": 5,
   "metadata": {},
   "outputs": [
    {
     "data": {
      "application/vnd.jupyter.widget-view+json": {
       "model_id": "24dec3293ba84e84bd8c83a9b4672cce",
       "version_major": 2,
       "version_minor": 0
      },
      "text/plain": [
       "FloatProgress(value=0.0, layout=Layout(width='auto'), style=ProgressStyle(bar_color='black'))"
      ]
     },
     "metadata": {},
     "output_type": "display_data"
    },
    {
     "ename": "",
     "evalue": "",
     "output_type": "error",
     "traceback": [
      "\u001b[1;31mThe Kernel crashed while executing code in the the current cell or a previous cell. Please review the code in the cell(s) to identify a possible cause of the failure. Click <a href='https://aka.ms/vscodeJupyterKernelCrash'>here</a> for more info. View Jupyter <a href='command:jupyter.viewOutput'>log</a> for further details."
     ]
    }
   ],
   "source": []
  },
  {
   "cell_type": "code",
   "execution_count": null,
   "metadata": {},
   "outputs": [],
   "source": []
  }
 ],
 "metadata": {
  "language_info": {
   "name": "python"
  }
 },
 "nbformat": 4,
 "nbformat_minor": 2
}
