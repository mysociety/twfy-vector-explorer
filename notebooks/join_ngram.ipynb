{
 "cells": [
  {
   "cell_type": "code",
   "execution_count": 13,
   "metadata": {},
   "outputs": [],
   "source": [
    "from pathlib import Path\n",
    "\n",
    "import pandas as pd\n",
    "from tqdm import tqdm\n",
    "\n",
    "data_dir = Path(\"..\", \"data\")"
   ]
  },
  {
   "cell_type": "code",
   "execution_count": 1,
   "metadata": {},
   "outputs": [
    {
     "name": "stderr",
     "output_type": "stream",
     "text": [
      "100%|██████████| 38/38 [10:08<00:00, 16.00s/it]\n"
     ]
    },
    {
     "data": {
      "text/html": [
       "<div>\n",
       "<style scoped>\n",
       "    .dataframe tbody tr th:only-of-type {\n",
       "        vertical-align: middle;\n",
       "    }\n",
       "\n",
       "    .dataframe tbody tr th {\n",
       "        vertical-align: top;\n",
       "    }\n",
       "\n",
       "    .dataframe thead th {\n",
       "        text-align: right;\n",
       "    }\n",
       "</style>\n",
       "<table border=\"1\" class=\"dataframe\">\n",
       "  <thead>\n",
       "    <tr style=\"text-align: right;\">\n",
       "      <th></th>\n",
       "      <th>ngram</th>\n",
       "      <th>count</th>\n",
       "    </tr>\n",
       "  </thead>\n",
       "  <tbody>\n",
       "    <tr>\n",
       "      <th>0</th>\n",
       "      <td>! !</td>\n",
       "      <td>21</td>\n",
       "    </tr>\n",
       "    <tr>\n",
       "      <th>1</th>\n",
       "      <td>! ! !</td>\n",
       "      <td>10</td>\n",
       "    </tr>\n",
       "    <tr>\n",
       "      <th>2</th>\n",
       "      <td>! ! ! !</td>\n",
       "      <td>4</td>\n",
       "    </tr>\n",
       "    <tr>\n",
       "      <th>3</th>\n",
       "      <td>! ! ! ”</td>\n",
       "      <td>4</td>\n",
       "    </tr>\n",
       "    <tr>\n",
       "      <th>4</th>\n",
       "      <td>! ! ”</td>\n",
       "      <td>4</td>\n",
       "    </tr>\n",
       "  </tbody>\n",
       "</table>\n",
       "</div>"
      ],
      "text/plain": [
       "     ngram  count\n",
       "0      ! !     21\n",
       "1    ! ! !     10\n",
       "2  ! ! ! !      4\n",
       "3  ! ! ! ”      4\n",
       "4    ! ! ”      4"
      ]
     },
     "execution_count": 1,
     "metadata": {},
     "output_type": "execute_result"
    }
   ],
   "source": [
    "\n",
    "\n",
    "# ok, we have a folder of .parquet files - with a ngram, and a count column\n",
    "# we want to end with one big file, with a ngram, and a count column\n",
    "# but there is duplicaiton between the fields, and they are lots of them\n",
    "\n",
    "# We can't load them all at once, so we need open up the first, and then sequentially update it\n",
    "# We can't just append, because we need to update the counts - so it'll need a groupby and aggregate the count\n",
    "\n",
    "paths = list(data_dir.glob(\"*.parquet\"))\n",
    "\n",
    "# open the first file\n",
    "df = pd.read_parquet(paths[0])\n",
    "# drop any with a count of one\n",
    "# shortcut! but for our purposes ok\n",
    "df = df[df[\"count\"] > 1]\n",
    "\n",
    "# loop through the rest\n",
    "\n",
    "for item_path in tqdm(paths[1:]):\n",
    "    item = pd.read_parquet(item_path)\n",
    "    item = item[item[\"count\"] > 1]\n",
    "    df = pd.concat([df, item])\n",
    "    df = df.groupby(\"ngram\").sum().reset_index()\n",
    "\n",
    "df.head()"
   ]
  },
  {
   "cell_type": "code",
   "execution_count": 15,
   "metadata": {},
   "outputs": [],
   "source": [
    "df = pd.read_parquet(data_dir / \"joined_ngram.parquet\")\n",
    "\n",
    "df = df[df[\"count\"] > 10]\n",
    "\n",
    "df.to_parquet(data_dir / \"joined_ngram_reduced.parquet\")"
   ]
  }
 ],
 "metadata": {
  "language_info": {
   "name": "python"
  }
 },
 "nbformat": 4,
 "nbformat_minor": 2
}
